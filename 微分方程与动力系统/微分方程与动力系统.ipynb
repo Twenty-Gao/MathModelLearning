{
 "cells": [
  {
   "cell_type": "code",
   "execution_count": 1,
   "id": "68119ba2",
   "metadata": {},
   "outputs": [
    {
     "name": "stdout",
     "output_type": "stream",
     "text": [
      "定积分的结果是：0.7951866427656943\n"
     ]
    }
   ],
   "source": [
    "import numpy as np\n",
    "from scipy.integrate import quad\n",
    "\n",
    "# 定义函数\n",
    "def f(x):\n",
    "    return np.cos(2*np.pi*x)*np.exp(-x)+1.2\n",
    "#计算定积分\n",
    "integral,error = quad(f,0,0.7)\n",
    "\n",
    "print(f'定积分的结果是：{integral}')\n"
   ]
  },
  {
   "cell_type": "code",
   "execution_count": null,
   "id": "62e0cad5",
   "metadata": {},
   "outputs": [],
   "source": []
  }
 ],
 "metadata": {
  "kernelspec": {
   "display_name": "Python 3.6.3 (ipykernel)",
   "language": "python",
   "name": "python3.6.3"
  },
  "language_info": {
   "codemirror_mode": {
    "name": "ipython",
    "version": 3
   },
   "file_extension": ".py",
   "mimetype": "text/x-python",
   "name": "python",
   "nbconvert_exporter": "python",
   "pygments_lexer": "ipython3",
   "version": "3.6.3"
  }
 },
 "nbformat": 4,
 "nbformat_minor": 5
}
