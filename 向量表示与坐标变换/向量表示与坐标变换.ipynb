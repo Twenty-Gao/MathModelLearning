{
 "cells": [
  {
   "cell_type": "code",
   "execution_count": 2,
   "id": "fbe6cf1a",
   "metadata": {},
   "outputs": [
    {
     "name": "stdout",
     "output_type": "stream",
     "text": [
      "[1 2 3 5 8]\n"
     ]
    }
   ],
   "source": [
    "import numpy as np\n",
    "x = np.array([1,2,3,5,8])#创建了一个向量\n",
    "print(x)"
   ]
  },
  {
   "cell_type": "code",
   "execution_count": null,
   "id": "6fc39814",
   "metadata": {},
   "outputs": [],
   "source": [
    "# 解析几何法的本质就是利用函数与方程来表示不同的几何曲线\n",
    "# 在数学中，坐标变换通常涉及到一系列的矩阵运算，这些矩阵描述了一个坐标系相对于另一个坐标系的位置和方向。\n",
    "# 旋转变换就是其中的一个典型的例子。\n"
   ]
  },
  {
   "cell_type": "code",
   "execution_count": 5,
   "id": "d3910698",
   "metadata": {},
   "outputs": [
    {
     "name": "stdout",
     "output_type": "stream",
     "text": [
      "原来坐标：[5 3]\n",
      "旋转后的坐标：[2.83012702 5.09807621]\n"
     ]
    }
   ],
   "source": [
    "import numpy as np\n",
    "\n",
    "# 设定旋转角度，这里我们以30度为例\n",
    "theta = np.radians(30)\n",
    "\n",
    "# 创建旋转\n",
    "rotation_matrix = np.array([\n",
    "    [np.cos(theta),-np.sin(theta)],\n",
    "    [np.sin(theta),np.cos(theta)]\n",
    "])\n",
    "\n",
    "# 假设有一个点\n",
    "point = np.array([5,3])\n",
    "\n",
    "#通过旋转矩阵来变换这个点的坐标\n",
    "\n",
    "rorated_point = rotation_matrix.dot(point)\n",
    "\n",
    "print(f\"原来坐标：{point}\")\n",
    "print(f\"旋转后的坐标：{rorated_point}\")"
   ]
  },
  {
   "cell_type": "code",
   "execution_count": 7,
   "id": "738dfb63",
   "metadata": {},
   "outputs": [
    {
     "name": "stdout",
     "output_type": "stream",
     "text": [
      "旋转后P点的坐标为: [3.39062937 0.11228132 1.57829826]\n"
     ]
    }
   ],
   "source": [
    "# 在Python中，我们使用numpy库来实现三维旋转：\n",
    "\n",
    "import numpy as np\n",
    "\n",
    "# 定义旋转角\n",
    "alpha = np.radians(30) #绕 z 轴旋转\n",
    "beta = np.radians(45) #绕 Y 轴旋转\n",
    "gamma = np.radians(60) #绕 X 轴旋转\n",
    "\n",
    "# 定义旋转矩阵\n",
    "R_z  =np.array([[np.cos(alpha), -np.sin(alpha), 0],\n",
    "                [np.sin(alpha), np.cos(alpha), 0],\n",
    "                [0, 0, 1]])\n",
    "R_y = np.array([[np.cos(beta), 0, np.sin(beta)],\n",
    "                [0, 1, 0],\n",
    "                [-np.sin(beta), 0, np.cos(beta)]])\n",
    "\n",
    "R_x = np.array([[1, 0, 0],\n",
    "                [0, np.cos(gamma), -np.sin(gamma)],\n",
    "                [0, np.sin(gamma), np.cos(gamma)]])\n",
    "\n",
    "# 总旋转矩阵\n",
    "R = R_z @ R_y @ R_x\n",
    "\n",
    "# 定义点P的坐标\n",
    "P = np.array([1, 2, 3])\n",
    "\n",
    "# 计算旋转后的坐标\n",
    "P_rotated = R @ P\n",
    "print(\"旋转后P点的坐标为:\", P_rotated)"
   ]
  },
  {
   "cell_type": "code",
   "execution_count": 11,
   "id": "cb6bad30",
   "metadata": {},
   "outputs": [
    {
     "name": "stdout",
     "output_type": "stream",
     "text": [
      "0.0\n",
      "Solution of the linear system: [2. 3.]\n"
     ]
    }
   ],
   "source": [
    "import numpy as np\n",
    "matrix = np.array([[1, 4, 7],\n",
    " [2, 5, 8],\n",
    " [3, 6, 9]])\n",
    "\n",
    "#计算行列式\n",
    "matrix_determinant = np.linalg.det(matrix)\n",
    "print(matrix_determinant)\n",
    "\n",
    "# 求解线性方程组示例\n",
    "A = np.array([[3, 1], [1, 2]])\n",
    "b = np.array([9, 8])\n",
    "solution = np.linalg.solve(A, b)\n",
    "print(\"Solution of the linear system:\", solution)"
   ]
  },
  {
   "cell_type": "code",
   "execution_count": 4,
   "id": "96fd1180",
   "metadata": {},
   "outputs": [
    {
     "name": "stdout",
     "output_type": "stream",
     "text": [
      "海水深度 D: [-90.94873726 -85.71155294 -80.47436863 -75.23718431 -70.\n",
      " -64.76281569 -59.52563137 -54.28844706 -49.05126274]\n",
      "覆盖宽度 W: [315.81332829 297.62756059 279.44179288 261.25602517 243.07025746\n",
      " 224.88448975 206.69872205 188.51295434 170.32718663]\n",
      "重合部分比例 eta: [ 0.35695443  0.31510572  0.26743092  0.21262236  0.14894938  0.07407224\n",
      " -0.01525164 -0.12364966]\n"
     ]
    },
    {
     "name": "stderr",
     "output_type": "stream",
     "text": [
      "C:\\Users\\Lexus_Twenty\\AppData\\Local\\Temp\\ipykernel_14084\\810235397.py:26: RuntimeWarning: The iteration is not making good progress, as measured by the \n",
      "  improvement from the last ten iterations.\n",
      "  tleft = fsolve(leftsolve, 0)\n",
      "C:\\Users\\Lexus_Twenty\\AppData\\Local\\Temp\\ipykernel_14084\\810235397.py:27: RuntimeWarning: The iteration is not making good progress, as measured by the \n",
      "  improvement from the last ten iterations.\n",
      "  tright = fsolve(rightsolve,0)\n"
     ]
    }
   ],
   "source": [
    "# 平面几何模型的构建\n",
    "\n",
    "import numpy as np\n",
    "from scipy.optimize import fsolve \n",
    "\n",
    "theta = 2*np.pi/3 #120° 全开角\n",
    "alpha = 1.5/180 * np.pi #海底坡度\n",
    "htheta = theta/2 # 半开角\n",
    "\n",
    "h = 70 #中心点的海水深度\n",
    "d = 200 #测线距离\n",
    "k = np.tan(np.pi/2-htheta) #超声波直线的斜率\n",
    "k0 = np.tan(alpha) #海底斜率\n",
    "\n",
    "#初始化\n",
    "\n",
    "Aleft = [] #左端点的坐标\n",
    "Aright = [] #右端点的坐标\n",
    "Acenter = [] #中心点的坐标\n",
    "W= [] #覆盖宽度\n",
    "\n",
    "#求解交点\n",
    "for n in range(-4,5):\n",
    "    leftsolve = lambda t:k*(t - n * d)-k0 * t + h\n",
    "    rightsolve = lambda t: -k * (t - n * d) - k0 * t + h\n",
    "    tleft = fsolve(leftsolve, 0)\n",
    "    tright = fsolve(rightsolve,0)\n",
    "    Aleft.append([tleft[0], k0 * tleft[0] - h])\n",
    "    Aright.append([tright[0], k0 * tright[0] - h])\n",
    "    Acenter.append([200 * n, k0 * 200 * n - h])\n",
    "Aleft = np.array(Aleft)\n",
    "Aright = np.array(Aright)\n",
    "Acenter = np.array(Acenter)\n",
    "D = Acenter[:,1] #海水深度\n",
    "W = np.sqrt((Aleft[:, 0] - Aright[:, 0]) ** 2 + (Aleft[:, 1] - Aright[:, 1]) ** 2)  # 覆盖宽度\n",
    "# 计算重合部分\n",
    "cover = np.zeros(8)\n",
    "for i in range(8):\n",
    "    cover[i] = np.sqrt((Aright[i, 0] - Aleft[i + 1, 0]) ** 2 + (Aright[i, 1] - Aleft[i + 1, 1]) ** 2)\n",
    "    # 判断是否有重叠，如果没有，则重叠率为负值\n",
    "    if Aright[i, 0] - Aleft[i + 1, 0] < 0: \n",
    "        cover[i] = -cover[i]\n",
    "eta = cover / W[1:]\n",
    "\n",
    "print(\"海水深度 D:\", D)\n",
    "print(\"覆盖宽度 W:\", W)\n",
    "print(\"重合部分比例 eta:\", eta)\n",
    "    \n",
    "    \n"
   ]
  },
  {
   "cell_type": "code",
   "execution_count": null,
   "id": "33fc71d1",
   "metadata": {},
   "outputs": [],
   "source": []
  },
  {
   "cell_type": "code",
   "execution_count": null,
   "id": "5759269c",
   "metadata": {},
   "outputs": [],
   "source": []
  },
  {
   "cell_type": "code",
   "execution_count": null,
   "id": "b526060a",
   "metadata": {},
   "outputs": [],
   "source": []
  },
  {
   "cell_type": "code",
   "execution_count": null,
   "id": "12b11302",
   "metadata": {},
   "outputs": [],
   "source": []
  },
  {
   "cell_type": "code",
   "execution_count": null,
   "id": "f6b2813e",
   "metadata": {},
   "outputs": [],
   "source": []
  },
  {
   "cell_type": "code",
   "execution_count": null,
   "id": "e0f0f701",
   "metadata": {},
   "outputs": [],
   "source": []
  },
  {
   "cell_type": "code",
   "execution_count": null,
   "id": "b8853a6f",
   "metadata": {},
   "outputs": [],
   "source": []
  },
  {
   "cell_type": "code",
   "execution_count": null,
   "id": "d91ae283",
   "metadata": {},
   "outputs": [],
   "source": []
  },
  {
   "cell_type": "code",
   "execution_count": null,
   "id": "41d7f944",
   "metadata": {},
   "outputs": [],
   "source": []
  },
  {
   "cell_type": "code",
   "execution_count": null,
   "id": "55f90ca8",
   "metadata": {},
   "outputs": [],
   "source": []
  }
 ],
 "metadata": {
  "kernelspec": {
   "display_name": "Python 3 (ipykernel)",
   "language": "python",
   "name": "python3"
  },
  "language_info": {
   "codemirror_mode": {
    "name": "ipython",
    "version": 3
   },
   "file_extension": ".py",
   "mimetype": "text/x-python",
   "name": "python",
   "nbconvert_exporter": "python",
   "pygments_lexer": "ipython3",
   "version": "3.10.14"
  }
 },
 "nbformat": 4,
 "nbformat_minor": 5
}
