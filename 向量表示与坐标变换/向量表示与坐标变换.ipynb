{
 "cells": [
  {
   "cell_type": "code",
   "execution_count": 2,
   "id": "fbe6cf1a",
   "metadata": {},
   "outputs": [
    {
     "name": "stdout",
     "output_type": "stream",
     "text": [
      "[1 2 3 5 8]\n"
     ]
    }
   ],
   "source": [
    "import numpy as np\n",
    "x = np.array([1,2,3,5,8])#创建了一个向量\n",
    "print(x)"
   ]
  },
  {
   "cell_type": "code",
   "execution_count": null,
   "id": "6fc39814",
   "metadata": {},
   "outputs": [],
   "source": [
    "# 解析几何法的本质就是利用函数与方程来表示不同的几何曲线\n",
    "# 在数学中，坐标变换通常涉及到一系列的矩阵运算，这些矩阵描述了一个坐标系相对于另一个坐标系的位置和方向。\n",
    "# 旋转变换就是其中的一个典型的例子。\n"
   ]
  },
  {
   "cell_type": "code",
   "execution_count": 5,
   "id": "d3910698",
   "metadata": {},
   "outputs": [
    {
     "name": "stdout",
     "output_type": "stream",
     "text": [
      "原来坐标：[5 3]\n",
      "旋转后的坐标：[2.83012702 5.09807621]\n"
     ]
    }
   ],
   "source": [
    "import numpy as np\n",
    "\n",
    "# 设定旋转角度，这里我们以30度为例\n",
    "theta = np.radians(30)\n",
    "\n",
    "# 创建旋转\n",
    "rotation_matrix = np.array([\n",
    "    [np.cos(theta),-np.sin(theta)],\n",
    "    [np.sin(theta),np.cos(theta)]\n",
    "])\n",
    "\n",
    "# 假设有一个点\n",
    "point = np.array([5,3])\n",
    "\n",
    "#通过旋转矩阵来变换这个点的坐标\n",
    "\n",
    "rorated_point = rotation_matrix.dot(point)\n",
    "\n",
    "print(f\"原来坐标：{point}\")\n",
    "print(f\"旋转后的坐标：{rorated_point}\")"
   ]
  },
  {
   "cell_type": "code",
   "execution_count": 7,
   "id": "738dfb63",
   "metadata": {},
   "outputs": [
    {
     "name": "stdout",
     "output_type": "stream",
     "text": [
      "旋转后P点的坐标为: [3.39062937 0.11228132 1.57829826]\n"
     ]
    }
   ],
   "source": [
    "# 在Python中，我们使用numpy库来实现三维旋转：\n",
    "\n",
    "import numpy as np\n",
    "\n",
    "# 定义旋转角\n",
    "alpha = np.radians(30) #绕 z 轴旋转\n",
    "beta = np.radians(45) #绕 Y 轴旋转\n",
    "gamma = np.radians(60) #绕 X 轴旋转\n",
    "\n",
    "# 定义旋转矩阵\n",
    "R_z  =np.array([[np.cos(alpha), -np.sin(alpha), 0],\n",
    "                [np.sin(alpha), np.cos(alpha), 0],\n",
    "                [0, 0, 1]])\n",
    "R_y = np.array([[np.cos(beta), 0, np.sin(beta)],\n",
    "                [0, 1, 0],\n",
    "                [-np.sin(beta), 0, np.cos(beta)]])\n",
    "\n",
    "R_x = np.array([[1, 0, 0],\n",
    "                [0, np.cos(gamma), -np.sin(gamma)],\n",
    "                [0, np.sin(gamma), np.cos(gamma)]])\n",
    "\n",
    "# 总旋转矩阵\n",
    "R = R_z @ R_y @ R_x\n",
    "\n",
    "# 定义点P的坐标\n",
    "P = np.array([1, 2, 3])\n",
    "\n",
    "# 计算旋转后的坐标\n",
    "P_rotated = R @ P\n",
    "print(\"旋转后P点的坐标为:\", P_rotated)"
   ]
  },
  {
   "cell_type": "code",
   "execution_count": 11,
   "id": "cb6bad30",
   "metadata": {},
   "outputs": [
    {
     "name": "stdout",
     "output_type": "stream",
     "text": [
      "0.0\n",
      "Solution of the linear system: [2. 3.]\n"
     ]
    }
   ],
   "source": [
    "import numpy as np\n",
    "matrix = np.array([[1, 4, 7],\n",
    " [2, 5, 8],\n",
    " [3, 6, 9]])\n",
    "\n",
    "#计算行列式\n",
    "matrix_determinant = np.linalg.det(matrix)\n",
    "print(matrix_determinant)\n",
    "\n",
    "# 求解线性方程组示例\n",
    "A = np.array([[3, 1], [1, 2]])\n",
    "b = np.array([9, 8])\n",
    "solution = np.linalg.solve(A, b)\n",
    "print(\"Solution of the linear system:\", solution)"
   ]
  },
  {
   "cell_type": "code",
   "execution_count": null,
   "id": "96fd1180",
   "metadata": {},
   "outputs": [],
   "source": [
    "# 平面几何模型的构建\n"
   ]
  },
  {
   "cell_type": "code",
   "execution_count": null,
   "id": "b526060a",
   "metadata": {},
   "outputs": [],
   "source": []
  },
  {
   "cell_type": "code",
   "execution_count": null,
   "id": "12b11302",
   "metadata": {},
   "outputs": [],
   "source": []
  },
  {
   "cell_type": "code",
   "execution_count": null,
   "id": "f6b2813e",
   "metadata": {},
   "outputs": [],
   "source": []
  },
  {
   "cell_type": "code",
   "execution_count": null,
   "id": "e0f0f701",
   "metadata": {},
   "outputs": [],
   "source": []
  },
  {
   "cell_type": "code",
   "execution_count": null,
   "id": "b8853a6f",
   "metadata": {},
   "outputs": [],
   "source": []
  },
  {
   "cell_type": "code",
   "execution_count": null,
   "id": "d91ae283",
   "metadata": {},
   "outputs": [],
   "source": []
  },
  {
   "cell_type": "code",
   "execution_count": null,
   "id": "41d7f944",
   "metadata": {},
   "outputs": [],
   "source": []
  },
  {
   "cell_type": "code",
   "execution_count": null,
   "id": "55f90ca8",
   "metadata": {},
   "outputs": [],
   "source": []
  }
 ],
 "metadata": {
  "kernelspec": {
   "display_name": "Python 3 (ipykernel)",
   "language": "python",
   "name": "python3"
  },
  "language_info": {
   "codemirror_mode": {
    "name": "ipython",
    "version": 3
   },
   "file_extension": ".py",
   "mimetype": "text/x-python",
   "name": "python",
   "nbconvert_exporter": "python",
   "pygments_lexer": "ipython3",
   "version": "3.10.14"
  }
 },
 "nbformat": 4,
 "nbformat_minor": 5
}
